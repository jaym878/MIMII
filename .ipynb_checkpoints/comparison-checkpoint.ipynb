{
 "cells": [
  {
   "cell_type": "markdown",
   "id": "af0cb4c1-c9a6-4f65-bbb3-0376db698bfd",
   "metadata": {},
   "source": [
    "# Comparison of Basic Sequential and Autoencoder on MIMII Dataset\n",
    "The dataset has been preprocessed in the data.csv file"
   ]
  },
  {
   "cell_type": "code",
   "execution_count": 1,
   "id": "c6493ea5-02b3-47b9-b662-44a36b157d25",
   "metadata": {},
   "outputs": [],
   "source": [
    "import librosa\n",
    "import pandas as pd\n",
    "import numpy as np\n",
    "import matplotlib.pyplot as plt\n",
    "%matplotlib inline\n",
    "import os\n",
    "import csv\n",
    "import IPython.display as ipd\n",
    "# Preprocessing\n",
    "from sklearn.model_selection import train_test_split\n",
    "from sklearn.metrics import roc_curve, auc\n",
    "from sklearn.metrics import confusion_matrix, classification_report\n",
    "from sklearn.preprocessing import LabelEncoder, StandardScaler\n",
    "#Keras\n",
    "from keras import models\n",
    "from keras import layers"
   ]
  },
  {
   "cell_type": "markdown",
   "id": "5832dab8-9a74-4094-b2e2-8fe1e27cd6d8",
   "metadata": {},
   "source": [
    "Setting up dataset for usability and splitting to train and test data"
   ]
  },
  {
   "cell_type": "code",
   "execution_count": 2,
   "id": "873f4e09-5674-4eb8-8333-8b8a55af5b3b",
   "metadata": {},
   "outputs": [
    {
     "data": {
      "text/html": [
       "<div>\n",
       "<style scoped>\n",
       "    .dataframe tbody tr th:only-of-type {\n",
       "        vertical-align: middle;\n",
       "    }\n",
       "\n",
       "    .dataframe tbody tr th {\n",
       "        vertical-align: top;\n",
       "    }\n",
       "\n",
       "    .dataframe thead th {\n",
       "        text-align: right;\n",
       "    }\n",
       "</style>\n",
       "<table border=\"1\" class=\"dataframe\">\n",
       "  <thead>\n",
       "    <tr style=\"text-align: right;\">\n",
       "      <th></th>\n",
       "      <th>chroma_stft</th>\n",
       "      <th>rmse</th>\n",
       "      <th>spectral_centroid</th>\n",
       "      <th>spectral_bandwidth</th>\n",
       "      <th>rolloff</th>\n",
       "      <th>zero_crossing_rate</th>\n",
       "      <th>mfcc1</th>\n",
       "      <th>mfcc2</th>\n",
       "      <th>mfcc3</th>\n",
       "      <th>mfcc4</th>\n",
       "      <th>...</th>\n",
       "      <th>mfcc12</th>\n",
       "      <th>mfcc13</th>\n",
       "      <th>mfcc14</th>\n",
       "      <th>mfcc15</th>\n",
       "      <th>mfcc16</th>\n",
       "      <th>mfcc17</th>\n",
       "      <th>mfcc18</th>\n",
       "      <th>mfcc19</th>\n",
       "      <th>mfcc20</th>\n",
       "      <th>label</th>\n",
       "    </tr>\n",
       "  </thead>\n",
       "  <tbody>\n",
       "    <tr>\n",
       "      <th>0</th>\n",
       "      <td>0.332487</td>\n",
       "      <td>0.012099</td>\n",
       "      <td>1180.264031</td>\n",
       "      <td>1579.000699</td>\n",
       "      <td>2220.767700</td>\n",
       "      <td>0.049593</td>\n",
       "      <td>-383.320099</td>\n",
       "      <td>177.115570</td>\n",
       "      <td>-30.398434</td>\n",
       "      <td>43.175838</td>\n",
       "      <td>...</td>\n",
       "      <td>9.741944</td>\n",
       "      <td>17.725454</td>\n",
       "      <td>-5.918385</td>\n",
       "      <td>10.031418</td>\n",
       "      <td>-17.544346</td>\n",
       "      <td>7.334301</td>\n",
       "      <td>-7.061300</td>\n",
       "      <td>10.523767</td>\n",
       "      <td>3.254827</td>\n",
       "      <td>abnormal</td>\n",
       "    </tr>\n",
       "    <tr>\n",
       "      <th>1</th>\n",
       "      <td>0.497902</td>\n",
       "      <td>0.013013</td>\n",
       "      <td>1036.513080</td>\n",
       "      <td>1375.484191</td>\n",
       "      <td>2200.808270</td>\n",
       "      <td>0.037650</td>\n",
       "      <td>-370.949249</td>\n",
       "      <td>186.253677</td>\n",
       "      <td>-39.915035</td>\n",
       "      <td>60.632931</td>\n",
       "      <td>...</td>\n",
       "      <td>-2.551307</td>\n",
       "      <td>6.779550</td>\n",
       "      <td>-5.985898</td>\n",
       "      <td>7.088058</td>\n",
       "      <td>-6.116435</td>\n",
       "      <td>8.007307</td>\n",
       "      <td>-1.762496</td>\n",
       "      <td>2.309028</td>\n",
       "      <td>-1.095314</td>\n",
       "      <td>abnormal</td>\n",
       "    </tr>\n",
       "    <tr>\n",
       "      <th>2</th>\n",
       "      <td>0.325402</td>\n",
       "      <td>0.012418</td>\n",
       "      <td>1271.447206</td>\n",
       "      <td>1735.250822</td>\n",
       "      <td>2644.712005</td>\n",
       "      <td>0.049436</td>\n",
       "      <td>-376.357697</td>\n",
       "      <td>167.325989</td>\n",
       "      <td>-21.110481</td>\n",
       "      <td>45.520454</td>\n",
       "      <td>...</td>\n",
       "      <td>-3.114837</td>\n",
       "      <td>8.503551</td>\n",
       "      <td>-5.267240</td>\n",
       "      <td>17.415310</td>\n",
       "      <td>-7.076010</td>\n",
       "      <td>16.206793</td>\n",
       "      <td>-4.685070</td>\n",
       "      <td>0.707447</td>\n",
       "      <td>-11.416034</td>\n",
       "      <td>abnormal</td>\n",
       "    </tr>\n",
       "    <tr>\n",
       "      <th>3</th>\n",
       "      <td>0.474146</td>\n",
       "      <td>0.010462</td>\n",
       "      <td>1050.479779</td>\n",
       "      <td>1347.219254</td>\n",
       "      <td>2201.532705</td>\n",
       "      <td>0.044327</td>\n",
       "      <td>-381.908417</td>\n",
       "      <td>190.770233</td>\n",
       "      <td>-44.368759</td>\n",
       "      <td>61.062859</td>\n",
       "      <td>...</td>\n",
       "      <td>-3.054621</td>\n",
       "      <td>7.736747</td>\n",
       "      <td>-4.699168</td>\n",
       "      <td>8.208503</td>\n",
       "      <td>-6.886340</td>\n",
       "      <td>6.885895</td>\n",
       "      <td>-3.381184</td>\n",
       "      <td>1.034102</td>\n",
       "      <td>-2.435584</td>\n",
       "      <td>abnormal</td>\n",
       "    </tr>\n",
       "    <tr>\n",
       "      <th>4</th>\n",
       "      <td>0.329252</td>\n",
       "      <td>0.009813</td>\n",
       "      <td>1414.325444</td>\n",
       "      <td>1763.148493</td>\n",
       "      <td>3041.902178</td>\n",
       "      <td>0.066287</td>\n",
       "      <td>-371.388824</td>\n",
       "      <td>164.614594</td>\n",
       "      <td>-29.966749</td>\n",
       "      <td>51.685932</td>\n",
       "      <td>...</td>\n",
       "      <td>-4.580791</td>\n",
       "      <td>-2.014683</td>\n",
       "      <td>-10.503709</td>\n",
       "      <td>15.157179</td>\n",
       "      <td>-7.044686</td>\n",
       "      <td>18.311527</td>\n",
       "      <td>-1.110782</td>\n",
       "      <td>9.126927</td>\n",
       "      <td>-10.090671</td>\n",
       "      <td>abnormal</td>\n",
       "    </tr>\n",
       "  </tbody>\n",
       "</table>\n",
       "<p>5 rows × 27 columns</p>\n",
       "</div>"
      ],
      "text/plain": [
       "   chroma_stft      rmse  spectral_centroid  spectral_bandwidth      rolloff  \\\n",
       "0     0.332487  0.012099        1180.264031         1579.000699  2220.767700   \n",
       "1     0.497902  0.013013        1036.513080         1375.484191  2200.808270   \n",
       "2     0.325402  0.012418        1271.447206         1735.250822  2644.712005   \n",
       "3     0.474146  0.010462        1050.479779         1347.219254  2201.532705   \n",
       "4     0.329252  0.009813        1414.325444         1763.148493  3041.902178   \n",
       "\n",
       "   zero_crossing_rate       mfcc1       mfcc2      mfcc3      mfcc4  ...  \\\n",
       "0            0.049593 -383.320099  177.115570 -30.398434  43.175838  ...   \n",
       "1            0.037650 -370.949249  186.253677 -39.915035  60.632931  ...   \n",
       "2            0.049436 -376.357697  167.325989 -21.110481  45.520454  ...   \n",
       "3            0.044327 -381.908417  190.770233 -44.368759  61.062859  ...   \n",
       "4            0.066287 -371.388824  164.614594 -29.966749  51.685932  ...   \n",
       "\n",
       "     mfcc12     mfcc13     mfcc14     mfcc15     mfcc16     mfcc17    mfcc18  \\\n",
       "0  9.741944  17.725454  -5.918385  10.031418 -17.544346   7.334301 -7.061300   \n",
       "1 -2.551307   6.779550  -5.985898   7.088058  -6.116435   8.007307 -1.762496   \n",
       "2 -3.114837   8.503551  -5.267240  17.415310  -7.076010  16.206793 -4.685070   \n",
       "3 -3.054621   7.736747  -4.699168   8.208503  -6.886340   6.885895 -3.381184   \n",
       "4 -4.580791  -2.014683 -10.503709  15.157179  -7.044686  18.311527 -1.110782   \n",
       "\n",
       "      mfcc19     mfcc20     label  \n",
       "0  10.523767   3.254827  abnormal  \n",
       "1   2.309028  -1.095314  abnormal  \n",
       "2   0.707447 -11.416034  abnormal  \n",
       "3   1.034102  -2.435584  abnormal  \n",
       "4   9.126927 -10.090671  abnormal  \n",
       "\n",
       "[5 rows x 27 columns]"
      ]
     },
     "execution_count": 2,
     "metadata": {},
     "output_type": "execute_result"
    }
   ],
   "source": [
    "# reading dataset from csv\n",
    "stat = 'abnormal normal'.split()\n",
    "data_origin = pd.read_csv('data.csv')\n",
    "data = data_origin.drop(['filename'],axis=1)\n",
    "data.head()"
   ]
  },
  {
   "cell_type": "code",
   "execution_count": 3,
   "id": "e6b1ad4e-d6c2-49ae-97ec-823111f4c0af",
   "metadata": {},
   "outputs": [],
   "source": [
    "sound_list = data.iloc[:, -1]\n",
    "encoder = LabelEncoder()\n",
    "y = encoder.fit_transform(sound_list)"
   ]
  },
  {
   "cell_type": "code",
   "execution_count": 4,
   "id": "f800bc6e-7aef-48e8-a268-66e9e181418a",
   "metadata": {},
   "outputs": [],
   "source": [
    "# normalizing\n",
    "scaler = StandardScaler()\n",
    "X = scaler.fit_transform(np.array(data.iloc[:, :-1], dtype = float))"
   ]
  },
  {
   "cell_type": "code",
   "execution_count": 5,
   "id": "ba6b64ed-4505-4ef8-a640-35e964f1d432",
   "metadata": {},
   "outputs": [],
   "source": [
    "# spliting of dataset into train and test dataset\n",
    "X_train, X_test, y_train, y_test = train_test_split(X, y, test_size=0.2)"
   ]
  },
  {
   "cell_type": "markdown",
   "id": "61083e4d-f4ad-48ed-9ff3-2d65f4f07fd5",
   "metadata": {},
   "source": [
    "## Basic Sequential CNN Model\n",
    "Model taken from here: https://medium.com/@sdoshi579/classification-of-music-into-different-genres-using-keras-82ab5339efe0"
   ]
  },
  {
   "cell_type": "code",
   "execution_count": 6,
   "id": "67a014f1-6eca-42de-b361-74d75807584a",
   "metadata": {},
   "outputs": [
    {
     "name": "stdout",
     "output_type": "stream",
     "text": [
      "Model: \"sequential\"\n",
      "_________________________________________________________________\n",
      "Layer (type)                 Output Shape              Param #   \n",
      "=================================================================\n",
      "dense (Dense)                (None, 256)               6912      \n",
      "_________________________________________________________________\n",
      "dense_1 (Dense)              (None, 128)               32896     \n",
      "_________________________________________________________________\n",
      "dense_2 (Dense)              (None, 64)                8256      \n",
      "_________________________________________________________________\n",
      "dense_3 (Dense)              (None, 2)                 130       \n",
      "=================================================================\n",
      "Total params: 48,194\n",
      "Trainable params: 48,194\n",
      "Non-trainable params: 0\n",
      "_________________________________________________________________\n"
     ]
    }
   ],
   "source": [
    "# creating a basic model\n",
    "seq = models.Sequential()\n",
    "seq.add(layers.Dense(256, activation='relu', input_shape=(X_train.shape[1],)))\n",
    "seq.add(layers.Dense(128, activation='relu'))\n",
    "seq.add(layers.Dense(64, activation='relu'))\n",
    "seq.add(layers.Dense(2, activation='softmax'))\n",
    "\n",
    "seq.compile(optimizer='adam',\n",
    "              loss='sparse_categorical_crossentropy',\n",
    "              metrics=['accuracy'])\n",
    "\n",
    "seq.summary()"
   ]
  },
  {
   "cell_type": "code",
   "execution_count": 7,
   "id": "66c93a75-2248-4e14-abd9-126bb57c6f24",
   "metadata": {},
   "outputs": [],
   "source": [
    "history_seq = seq.fit(X_train, y_train, epochs=40, batch_size=128, verbose=0)"
   ]
  },
  {
   "cell_type": "code",
   "execution_count": 8,
   "id": "e123e4fd-7cde-4e4c-9a79-f344f63e3cc6",
   "metadata": {},
   "outputs": [
    {
     "name": "stdout",
     "output_type": "stream",
     "text": [
      "              precision    recall  f1-score   support\n",
      "\n",
      "           0       0.98      0.90      0.94       330\n",
      "           1       0.96      0.99      0.98       804\n",
      "\n",
      "    accuracy                           0.97      1134\n",
      "   macro avg       0.97      0.95      0.96      1134\n",
      "weighted avg       0.97      0.97      0.97      1134\n",
      "\n",
      "Confusion matrix\n",
      "[[297  33]\n",
      " [  6 798]]\n"
     ]
    }
   ],
   "source": [
    "# Make a set of predictions for the validation data\n",
    "pred = np.argmax(seq.predict(X_train),axis=1)\n",
    "conf = confusion_matrix(y_train, pred)\n",
    "\n",
    "\n",
    "# Print performance details\n",
    "print(classification_report(y_train, pred))\n",
    "print(\"Confusion matrix\")\n",
    "print(conf)"
   ]
  },
  {
   "cell_type": "markdown",
   "id": "3898c9fc-eab1-493b-8e99-808694841a15",
   "metadata": {},
   "source": [
    "## Basic Autoencoder Model\n",
    "Model taken from MIMII baseline.py. The model based on the simple dense auto encoder (64 x 64 x 8 x 64 x 64)"
   ]
  },
  {
   "cell_type": "code",
   "execution_count": 9,
   "id": "4ab6e7dd-c919-427c-93d3-28b8ea68f6be",
   "metadata": {},
   "outputs": [
    {
     "name": "stdout",
     "output_type": "stream",
     "text": [
      "Model: \"sequential_1\"\n",
      "_________________________________________________________________\n",
      "Layer (type)                 Output Shape              Param #   \n",
      "=================================================================\n",
      "dense_4 (Dense)              (None, 64)                1728      \n",
      "_________________________________________________________________\n",
      "dense_5 (Dense)              (None, 64)                4160      \n",
      "_________________________________________________________________\n",
      "dense_6 (Dense)              (None, 8)                 520       \n",
      "_________________________________________________________________\n",
      "dense_7 (Dense)              (None, 64)                576       \n",
      "_________________________________________________________________\n",
      "dense_8 (Dense)              (None, 64)                4160      \n",
      "_________________________________________________________________\n",
      "dense_9 (Dense)              (None, 26)                1690      \n",
      "=================================================================\n",
      "Total params: 12,834\n",
      "Trainable params: 12,834\n",
      "Non-trainable params: 0\n",
      "_________________________________________________________________\n"
     ]
    }
   ],
   "source": [
    "output_units=X_train.shape[1]\n",
    "\n",
    "ae = models.Sequential()\n",
    "ae.add(layers.Dense(64, activation='relu', input_shape=(X_train.shape[1],)))\n",
    "ae.add(layers.Dense(64, activation='relu'))\n",
    "ae.add(layers.Dense(8, activation='relu'))\n",
    "ae.add(layers.Dense(64, activation='relu'))\n",
    "ae.add(layers.Dense(64, activation='relu'))\n",
    "ae.add(layers.Dense(output_units, activation=None))\n",
    "       \n",
    "ae.compile(optimizer='adam',\n",
    "              loss='mean_squared_error',\n",
    "              metrics=['accuracy'])\n",
    "\n",
    "ae.summary()"
   ]
  },
  {
   "cell_type": "code",
   "execution_count": 10,
   "id": "78e66eb6-4de1-49ab-b904-4d81badc65b8",
   "metadata": {},
   "outputs": [],
   "source": [
    "history_ae = ae.fit(X_train, y_train, epochs=40, batch_size=128, verbose = 0)"
   ]
  },
  {
   "cell_type": "markdown",
   "id": "79de2175-5673-421c-a65f-b60d1fefe159",
   "metadata": {},
   "source": [
    "# Resizing X_train for LSTM"
   ]
  },
  {
   "cell_type": "code",
   "execution_count": 11,
   "id": "16231ebf-3643-4c47-b676-ea44ad824fc7",
   "metadata": {},
   "outputs": [
    {
     "data": {
      "text/plain": [
       "(1134, 26, 1)"
      ]
     },
     "execution_count": 11,
     "metadata": {},
     "output_type": "execute_result"
    }
   ],
   "source": [
    "X_train_exp = np.reshape(X_train, (X_train.shape[0], X_train.shape[1], 1))\n",
    "np.shape(X_train_exp)"
   ]
  },
  {
   "cell_type": "markdown",
   "id": "3af69be8-c245-45b3-9e6c-e2e8ee68c172",
   "metadata": {},
   "source": [
    "# Hundman Autoencoder\n",
    "Taken from the Hundman paper https://doi.org/10.1145/3219819.3219845"
   ]
  },
  {
   "cell_type": "code",
   "execution_count": 12,
   "id": "cfbfc18f-b208-4f84-abf4-144fb17d7aff",
   "metadata": {
    "tags": []
   },
   "outputs": [],
   "source": [
    "model_h = models.Sequential()\n",
    "\n",
    "model_h.add(layers.LSTM(28, input_shape=(X_train_exp.shape[1:]), return_sequences=True))\n",
    "model_h.add(layers.Dropout(0.3))\n",
    "\n",
    "model_h.add(layers.LSTM(28, return_sequences=False)) \n",
    "model_h.add(layers.Dropout(0.3))\n",
    "\n",
    "model_h.add(layers.Dense(32))\n",
    "model_h.add(layers.Activation('linear'))\n",
    "\n",
    "model_h.compile(loss='mse', optimizer='adam', metrics = ['accuracy'])"
   ]
  },
  {
   "cell_type": "code",
   "execution_count": 13,
   "id": "c5f85f7d-1551-41d1-b9c1-3510f0ec65af",
   "metadata": {},
   "outputs": [
    {
     "name": "stdout",
     "output_type": "stream",
     "text": [
      "Model: \"sequential_2\"\n",
      "_________________________________________________________________\n",
      "Layer (type)                 Output Shape              Param #   \n",
      "=================================================================\n",
      "lstm (LSTM)                  (None, 26, 28)            3360      \n",
      "_________________________________________________________________\n",
      "dropout (Dropout)            (None, 26, 28)            0         \n",
      "_________________________________________________________________\n",
      "lstm_1 (LSTM)                (None, 28)                6384      \n",
      "_________________________________________________________________\n",
      "dropout_1 (Dropout)          (None, 28)                0         \n",
      "_________________________________________________________________\n",
      "dense_10 (Dense)             (None, 32)                928       \n",
      "_________________________________________________________________\n",
      "activation (Activation)      (None, 32)                0         \n",
      "=================================================================\n",
      "Total params: 10,672\n",
      "Trainable params: 10,672\n",
      "Non-trainable params: 0\n",
      "_________________________________________________________________\n"
     ]
    }
   ],
   "source": [
    "model_h.summary()"
   ]
  },
  {
   "cell_type": "code",
   "execution_count": 14,
   "id": "6c69ec9c-302c-4b12-9a95-72f5fa7574bb",
   "metadata": {},
   "outputs": [],
   "source": [
    "history_h = model_h.fit(X_train_exp, y_train, batch_size=64, epochs=3, verbose=False)"
   ]
  },
  {
   "cell_type": "markdown",
   "id": "599b5e5d-b215-496a-a5b9-5537872ec057",
   "metadata": {},
   "source": [
    "# FLPP Based LSTM RNN\n",
    "This is based on the basic RNN for DCASE data from FLPP. Taken from unsupervised_autoencoder_for_dcase/aux_fn.py"
   ]
  },
  {
   "cell_type": "code",
   "execution_count": 15,
   "id": "5e15d836-7944-45b8-8ade-dd5b9326e1dc",
   "metadata": {},
   "outputs": [
    {
     "name": "stdout",
     "output_type": "stream",
     "text": [
      "Model: \"sequential_3\"\n",
      "_________________________________________________________________\n",
      "Layer (type)                 Output Shape              Param #   \n",
      "=================================================================\n",
      "lstm_2 (LSTM)                (None, 26, 15)            1020      \n",
      "_________________________________________________________________\n",
      "lstm_3 (LSTM)                (None, 26, 15)            1860      \n",
      "_________________________________________________________________\n",
      "lstm_4 (LSTM)                (None, 26, 15)            1860      \n",
      "_________________________________________________________________\n",
      "lstm_5 (LSTM)                (None, 26, 15)            1860      \n",
      "_________________________________________________________________\n",
      "lstm_6 (LSTM)                (None, 26, 15)            1860      \n",
      "_________________________________________________________________\n",
      "lstm_7 (LSTM)                (None, 26, 15)            1860      \n",
      "_________________________________________________________________\n",
      "lstm_8 (LSTM)                (None, 26, 15)            1860      \n",
      "_________________________________________________________________\n",
      "lstm_9 (LSTM)                (None, 26, 15)            1860      \n",
      "_________________________________________________________________\n",
      "lstm_10 (LSTM)               (None, 26, 15)            1860      \n",
      "_________________________________________________________________\n",
      "dense_11 (Dense)             (None, 26, 1)             16        \n",
      "=================================================================\n",
      "Total params: 15,916\n",
      "Trainable params: 15,916\n",
      "Non-trainable params: 0\n",
      "_________________________________________________________________\n"
     ]
    }
   ],
   "source": [
    "LAYER_SIZE = 15\n",
    "HIDDEN_LAYER_COUNT = 8\n",
    "\n",
    "flpp = models.Sequential()\n",
    "flpp.add(layers.LSTM(LAYER_SIZE, input_shape=(X_train.shape[1], 1), return_sequences=True))\n",
    "for _ in range(HIDDEN_LAYER_COUNT):\n",
    "    flpp.add(layers.LSTM(LAYER_SIZE, return_sequences=True))\n",
    "flpp.add(layers.Dense(1))\n",
    "flpp.summary()\n",
    "flpp.compile(loss='mae', optimizer='adam')"
   ]
  },
  {
   "cell_type": "code",
   "execution_count": 16,
   "id": "f29dabbd-10fb-4ad1-98cd-133b98e1424e",
   "metadata": {},
   "outputs": [],
   "source": [
    "history_flpp = flpp.fit(X_train_exp, X_train_exp, epochs= 5, batch_size=300, verbose=0, shuffle=True, callbacks=None)"
   ]
  },
  {
   "cell_type": "markdown",
   "id": "fdcc4c99-4a6d-402d-a15c-5382bd3cdd9d",
   "metadata": {},
   "source": [
    "## ROC Curve Comparing Models"
   ]
  },
  {
   "cell_type": "code",
   "execution_count": 17,
   "id": "c77984bb-22d0-49cb-b5b7-3f1ed363e080",
   "metadata": {},
   "outputs": [
    {
     "data": {
      "image/png": "[encoded data removed]",
      "text/plain": [
       "<Figure size 432x288 with 1 Axes>"
      ]
     },
     "metadata": {
      "needs_background": "light"
     },
     "output_type": "display_data"
    }
   ],
   "source": [
    "y_pred_proba_seq = seq.predict(X_test)[::,1]\n",
    "fpr_seq, tpr_seq, _ = roc_curve(y_test, y_pred_proba_seq)\n",
    "roc_auc_seq = auc(fpr_seq, tpr_seq)\n",
    "\n",
    "y_pred_proba_ae = ae.predict(X_test)[::,1]\n",
    "fpr_ae, tpr_ae, _ = roc_curve(y_test, y_pred_proba_ae)\n",
    "roc_auc_ae = auc(fpr_ae, tpr_ae)\n",
    "\n",
    "X_test_exp = np.reshape(X_test, (X_test.shape[0], X_test.shape[1], 1))\n",
    "y_pred_proba_h = model_h.predict(X_test_exp)[::,1]\n",
    "fpr_h, tpr_h, _ = roc_curve(y_test, y_pred_proba_h)\n",
    "roc_auc_h = auc(fpr_h, tpr_h)\n",
    "\n",
    "y_pred_proba_flpp = flpp.predict(X_test_exp)[::,1]\n",
    "fpr_flpp, tpr_flpp, _ = roc_curve(y_test, y_pred_proba_flpp)\n",
    "roc_auc_flpp = auc(fpr_flpp, tpr_flpp)\n",
    "\n",
    "plt.figure()\n",
    "lw = 1\n",
    "plt.plot(fpr_seq, tpr_seq, color='red',\n",
    "         lw=lw, label='Basic CNN (area = %0.2f)' % roc_auc_seq)\n",
    "plt.plot(fpr_ae, tpr_ae, color='blue',\n",
    "         lw=lw, label='Basic AutoEncoder (area = %0.2f)' % roc_auc_ae)\n",
    "plt.plot(fpr_h, tpr_h, color='green',\n",
    "         lw=lw, label='Hundman AutoEncoder (area = %0.2f)' % roc_auc_h)\n",
    "plt.plot(fpr_flpp, tpr_flpp, color='brown',\n",
    "         lw=lw, label='FLPP RNN (area = %0.2f)' % roc_auc_flpp)\n",
    "\n",
    "plt.plot([0, 1], [0, 1], color='navy', lw=lw, linestyle='--')\n",
    "plt.xlim([0.0, 1.0])\n",
    "plt.ylim([0.0, 1.0])\n",
    "plt.xlabel('False Positive Rate')\n",
    "plt.ylabel('True Positive Rate')\n",
    "plt.title('ROC Analysis')\n",
    "plt.legend(loc=\"lower right\")\n",
    "plt.show()"
   ]
  },
  {
   "cell_type": "markdown",
   "id": "67beba52-4740-40bf-9a57-cf67bbc92f69",
   "metadata": {},
   "source": [
    "# TODO\n",
    "The FLPP Autoencoder still needs to be implimented. This will require some work as its in an older version of TF. Class is attached below."
   ]
  },
  {
   "cell_type": "code",
   "execution_count": null,
   "id": "5482ddc7-2384-4fc5-a761-76799b61e23f",
   "metadata": {},
   "outputs": [],
   "source": [
    "import tensorflow.compat.v1 as tf\n",
    "tf.disable_v2_behavior()\n",
    "\n",
    "\n",
    "class LSTMAutoencoder():\n",
    "    def __init__(self, batchsize, window_width, encoder_layer_list, decoder_layer_list, num_class=1):\n",
    "        self.window_width = window_width\n",
    "        self.encoder_layer_list = encoder_layer_list\n",
    "        self.decoder_layer_list = decoder_layer_list\n",
    "        self.num_class = num_class\n",
    "        self.batchsize = batchsize\n",
    "        self.decode_without_input = False\n",
    "        self.optimizer = None\n",
    "        self.reverse = None\n",
    "        self.output_enc = None\n",
    "        self.output_dec = None\n",
    "\n",
    "        self.lstm_cell_enc = [tf.nn.rnn_cell.LSTMCell(\n",
    "            size) for size in encoder_layer_list]\n",
    "        self.multi_rnn_enc_cell = tf.nn.rnn_cell.MultiRNNCell(\n",
    "            self.lstm_cell_enc)\n",
    "        self.initial_state_enc = self.multi_rnn_enc_cell.zero_state(\n",
    "            self.batchsize, dtype=tf.float32)\n",
    "\n",
    "        self.lstm_cell_dec = [tf.nn.rnn_cell.LSTMCell(\n",
    "            size) for size in decoder_layer_list]\n",
    "        self.multi_rnn_dec_cell = tf.nn.rnn_cell.MultiRNNCell(\n",
    "            self.lstm_cell_dec)\n",
    "        self.initial_state_dec = self.multi_rnn_dec_cell.zero_state(\n",
    "            self.batchsize, dtype=tf.float32)\n",
    "\n",
    "        self.x_placeholder = tf.placeholder(\n",
    "            tf.float32, [self.batchsize, self.window_width, self.num_class])\n",
    "        self.y_placeholder = tf.placeholder(\n",
    "            tf.float32, [self.batchsize, self.window_width, self.num_class])\n",
    "\n",
    "        self.encoder()\n",
    "        self.decoder()\n",
    "\n",
    "    def encoder(self):\n",
    "        with tf.variable_scope('encoder') as encoder:\n",
    "            self.output_enc, self.initial_state_enc = tf.nn.dynamic_rnn(cell=self.multi_rnn_enc_cell,\n",
    "                                                                        inputs=self.x_placeholder,\n",
    "                                                                        initial_state=self.initial_state_enc,\n",
    "                                                                        dtype=tf.float32, time_major=False)\n",
    "\n",
    "        # fc_output = tf.layer\n",
    "\n",
    "    def decoder(self):\n",
    "        with tf.variable_scope('decoder') as decoder:\n",
    "\n",
    "            if self.decode_without_input:\n",
    "                dec_inputs = [tf.zeros(tf.shape(self.batchsize, self.window_width, self.num_class),\n",
    "                                       dtype=tf.float32)]\n",
    "\n",
    "                self.output_dec, self.initial_state_dec = tf.nn.dynamic_rnn(cell=self.multi_rnn_dec_cell,\n",
    "                                                                            inputs=dec_inputs,\n",
    "                                                                            initial_state=self.initial_state_enc,\n",
    "                                                                            dtype=tf.float32, time_major=False)\n",
    "\n",
    "                if self.reverse:\n",
    "                    self.output_dec = self.output_dec[::-1]\n",
    "            else:\n",
    "\n",
    "                self.output_dec, self.initial_state_dec = tf.nn.dynamic_rnn(cell=self.multi_rnn_dec_cell,\n",
    "                                                                            inputs=self.output_enc,\n",
    "                                                                            initial_state=self.initial_state_enc,\n",
    "                                                                            dtype=tf.float32, time_major=False)\n",
    "            self.output_dense_dec = tf.layers.dense(\n",
    "                self.output_dec, self.num_class, name=\"dense_output\")\n",
    "\n",
    "            self.loss = tf.reduce_mean(\n",
    "                tf.square(self.y_placeholder - self.output_dense_dec))\n",
    "\n",
    "            if self.optimizer is None:\n",
    "                self.train = tf.train.AdamOptimizer().minimize(self.loss)\n",
    "            else:\n",
    "                self.train = self.optimizer.minimize(self.loss)\n",
    "\n",
    "            tf.summary.scalar(\"mini_batch_loss\", self.loss)\n",
    "            self.merged = tf.summary.merge_all()\n"
   ]
  }
 ],
 "metadata": {
  "kernelspec": {
   "display_name": "Python 3",
   "language": "python",
   "name": "python3"
  },
  "language_info": {
   "codemirror_mode": {
    "name": "ipython",
    "version": 3
   },
   "file_extension": ".py",
   "mimetype": "text/x-python",
   "name": "python",
   "nbconvert_exporter": "python",
   "pygments_lexer": "ipython3",
   "version": "3.7.10"
  }
 },
 "nbformat": 4,
 "nbformat_minor": 5
}

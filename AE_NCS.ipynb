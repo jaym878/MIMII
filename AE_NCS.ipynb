{
 "cells": [
  {
   "cell_type": "code",
   "execution_count": 1,
   "metadata": {},
   "outputs": [],
   "source": [
    "import librosa\n",
    "import time\n",
    "import pandas as pd\n",
    "import numpy as np\n",
    "import os\n",
    "\n",
    "from pathlib import Path\n",
    "import sys\n",
    "import matplotlib.pyplot as plt\n",
    "%matplotlib inline\n",
    "\n",
    "import csv\n",
    "import IPython.display as ipd\n",
    "# Preprocessing\n",
    "from sklearn.model_selection import train_test_split\n",
    "from sklearn.metrics import roc_curve, auc\n",
    "from sklearn.preprocessing import LabelEncoder, StandardScaler\n",
    "#Keras\n",
    "from keras import models\n",
    "from keras import layers\n",
    "from keras import callbacks\n",
    "from keras.wrappers.scikit_learn import KerasClassifier\n",
    "\n",
    "from collections import Counter\n",
    "\n",
    "import mo_tf\n",
    "import timeit\n",
    "from openvino.inference_engine import IECore"
   ]
  },
  {
   "cell_type": "code",
   "execution_count": 2,
   "metadata": {},
   "outputs": [
    {
     "data": {
      "text/html": [
       "<div>\n",
       "<style scoped>\n",
       "    .dataframe tbody tr th:only-of-type {\n",
       "        vertical-align: middle;\n",
       "    }\n",
       "\n",
       "    .dataframe tbody tr th {\n",
       "        vertical-align: top;\n",
       "    }\n",
       "\n",
       "    .dataframe thead th {\n",
       "        text-align: right;\n",
       "    }\n",
       "</style>\n",
       "<table border=\"1\" class=\"dataframe\">\n",
       "  <thead>\n",
       "    <tr style=\"text-align: right;\">\n",
       "      <th></th>\n",
       "      <th>chroma_stft</th>\n",
       "      <th>rmse</th>\n",
       "      <th>spectral_centroid</th>\n",
       "      <th>spectral_bandwidth</th>\n",
       "      <th>rolloff</th>\n",
       "      <th>zero_crossing_rate</th>\n",
       "      <th>mfcc1</th>\n",
       "      <th>mfcc2</th>\n",
       "      <th>mfcc3</th>\n",
       "      <th>mfcc4</th>\n",
       "      <th>...</th>\n",
       "      <th>mfcc12</th>\n",
       "      <th>mfcc13</th>\n",
       "      <th>mfcc14</th>\n",
       "      <th>mfcc15</th>\n",
       "      <th>mfcc16</th>\n",
       "      <th>mfcc17</th>\n",
       "      <th>mfcc18</th>\n",
       "      <th>mfcc19</th>\n",
       "      <th>mfcc20</th>\n",
       "      <th>label</th>\n",
       "    </tr>\n",
       "  </thead>\n",
       "  <tbody>\n",
       "    <tr>\n",
       "      <th>0</th>\n",
       "      <td>0.332487</td>\n",
       "      <td>0.012099</td>\n",
       "      <td>1180.264031</td>\n",
       "      <td>1579.000699</td>\n",
       "      <td>2220.767700</td>\n",
       "      <td>0.049593</td>\n",
       "      <td>-383.320099</td>\n",
       "      <td>177.115570</td>\n",
       "      <td>-30.398430</td>\n",
       "      <td>43.175835</td>\n",
       "      <td>...</td>\n",
       "      <td>9.741942</td>\n",
       "      <td>17.725452</td>\n",
       "      <td>-5.918385</td>\n",
       "      <td>10.031418</td>\n",
       "      <td>-17.544346</td>\n",
       "      <td>7.334301</td>\n",
       "      <td>-7.061300</td>\n",
       "      <td>10.523767</td>\n",
       "      <td>3.254827</td>\n",
       "      <td>abnormal</td>\n",
       "    </tr>\n",
       "    <tr>\n",
       "      <th>1</th>\n",
       "      <td>0.497902</td>\n",
       "      <td>0.013013</td>\n",
       "      <td>1036.513080</td>\n",
       "      <td>1375.484191</td>\n",
       "      <td>2200.808270</td>\n",
       "      <td>0.037650</td>\n",
       "      <td>-370.949249</td>\n",
       "      <td>186.253677</td>\n",
       "      <td>-39.915035</td>\n",
       "      <td>60.632927</td>\n",
       "      <td>...</td>\n",
       "      <td>-2.551307</td>\n",
       "      <td>6.779550</td>\n",
       "      <td>-5.985898</td>\n",
       "      <td>7.088058</td>\n",
       "      <td>-6.116435</td>\n",
       "      <td>8.007307</td>\n",
       "      <td>-1.762496</td>\n",
       "      <td>2.309028</td>\n",
       "      <td>-1.095314</td>\n",
       "      <td>abnormal</td>\n",
       "    </tr>\n",
       "    <tr>\n",
       "      <th>2</th>\n",
       "      <td>0.325402</td>\n",
       "      <td>0.012418</td>\n",
       "      <td>1271.447206</td>\n",
       "      <td>1735.250822</td>\n",
       "      <td>2644.712005</td>\n",
       "      <td>0.049436</td>\n",
       "      <td>-376.357697</td>\n",
       "      <td>167.325989</td>\n",
       "      <td>-21.110481</td>\n",
       "      <td>45.520447</td>\n",
       "      <td>...</td>\n",
       "      <td>-3.114837</td>\n",
       "      <td>8.503551</td>\n",
       "      <td>-5.267240</td>\n",
       "      <td>17.415310</td>\n",
       "      <td>-7.076010</td>\n",
       "      <td>16.206793</td>\n",
       "      <td>-4.685070</td>\n",
       "      <td>0.707447</td>\n",
       "      <td>-11.416034</td>\n",
       "      <td>abnormal</td>\n",
       "    </tr>\n",
       "    <tr>\n",
       "      <th>3</th>\n",
       "      <td>0.474146</td>\n",
       "      <td>0.010462</td>\n",
       "      <td>1050.479779</td>\n",
       "      <td>1347.219254</td>\n",
       "      <td>2201.532705</td>\n",
       "      <td>0.044327</td>\n",
       "      <td>-381.908417</td>\n",
       "      <td>190.770233</td>\n",
       "      <td>-44.368759</td>\n",
       "      <td>61.062855</td>\n",
       "      <td>...</td>\n",
       "      <td>-3.054621</td>\n",
       "      <td>7.736747</td>\n",
       "      <td>-4.699168</td>\n",
       "      <td>8.208503</td>\n",
       "      <td>-6.886340</td>\n",
       "      <td>6.885895</td>\n",
       "      <td>-3.381184</td>\n",
       "      <td>1.034102</td>\n",
       "      <td>-2.435584</td>\n",
       "      <td>abnormal</td>\n",
       "    </tr>\n",
       "    <tr>\n",
       "      <th>4</th>\n",
       "      <td>0.329252</td>\n",
       "      <td>0.009813</td>\n",
       "      <td>1414.325444</td>\n",
       "      <td>1763.148493</td>\n",
       "      <td>3041.902178</td>\n",
       "      <td>0.066287</td>\n",
       "      <td>-371.388824</td>\n",
       "      <td>164.614594</td>\n",
       "      <td>-29.966749</td>\n",
       "      <td>51.685932</td>\n",
       "      <td>...</td>\n",
       "      <td>-4.580791</td>\n",
       "      <td>-2.014683</td>\n",
       "      <td>-10.503709</td>\n",
       "      <td>15.157179</td>\n",
       "      <td>-7.044686</td>\n",
       "      <td>18.311527</td>\n",
       "      <td>-1.110782</td>\n",
       "      <td>9.126927</td>\n",
       "      <td>-10.090671</td>\n",
       "      <td>abnormal</td>\n",
       "    </tr>\n",
       "  </tbody>\n",
       "</table>\n",
       "<p>5 rows × 27 columns</p>\n",
       "</div>"
      ],
      "text/plain": [
       "   chroma_stft      rmse  spectral_centroid  spectral_bandwidth      rolloff  \\\n",
       "0     0.332487  0.012099        1180.264031         1579.000699  2220.767700   \n",
       "1     0.497902  0.013013        1036.513080         1375.484191  2200.808270   \n",
       "2     0.325402  0.012418        1271.447206         1735.250822  2644.712005   \n",
       "3     0.474146  0.010462        1050.479779         1347.219254  2201.532705   \n",
       "4     0.329252  0.009813        1414.325444         1763.148493  3041.902178   \n",
       "\n",
       "   zero_crossing_rate       mfcc1       mfcc2      mfcc3      mfcc4  ...  \\\n",
       "0            0.049593 -383.320099  177.115570 -30.398430  43.175835  ...   \n",
       "1            0.037650 -370.949249  186.253677 -39.915035  60.632927  ...   \n",
       "2            0.049436 -376.357697  167.325989 -21.110481  45.520447  ...   \n",
       "3            0.044327 -381.908417  190.770233 -44.368759  61.062855  ...   \n",
       "4            0.066287 -371.388824  164.614594 -29.966749  51.685932  ...   \n",
       "\n",
       "     mfcc12     mfcc13     mfcc14     mfcc15     mfcc16     mfcc17    mfcc18  \\\n",
       "0  9.741942  17.725452  -5.918385  10.031418 -17.544346   7.334301 -7.061300   \n",
       "1 -2.551307   6.779550  -5.985898   7.088058  -6.116435   8.007307 -1.762496   \n",
       "2 -3.114837   8.503551  -5.267240  17.415310  -7.076010  16.206793 -4.685070   \n",
       "3 -3.054621   7.736747  -4.699168   8.208503  -6.886340   6.885895 -3.381184   \n",
       "4 -4.580791  -2.014683 -10.503709  15.157179  -7.044686  18.311527 -1.110782   \n",
       "\n",
       "      mfcc19     mfcc20     label  \n",
       "0  10.523767   3.254827  abnormal  \n",
       "1   2.309028  -1.095314  abnormal  \n",
       "2   0.707447 -11.416034  abnormal  \n",
       "3   1.034102  -2.435584  abnormal  \n",
       "4   9.126927 -10.090671  abnormal  \n",
       "\n",
       "[5 rows x 27 columns]"
      ]
     },
     "execution_count": 2,
     "metadata": {},
     "output_type": "execute_result"
    }
   ],
   "source": [
    "# reading dataset from csv\n",
    "stat = 'abnormal normal'.split()\n",
    "data_origin = pd.read_csv('data_00.csv')\n",
    "data = data_origin.drop(['filename'],axis=1)\n",
    "data.head()"
   ]
  },
  {
   "cell_type": "code",
   "execution_count": 3,
   "metadata": {},
   "outputs": [],
   "source": [
    "sound_list = data.iloc[:, -1]\n",
    "encoder = LabelEncoder()\n",
    "y_origin = encoder.fit_transform(sound_list)\n",
    "y = [1 if e == 0 else 0 for e in y_origin]\n",
    "y = np.array(y)"
   ]
  },
  {
   "cell_type": "code",
   "execution_count": 4,
   "metadata": {},
   "outputs": [],
   "source": [
    "# normalizing\n",
    "scaler = StandardScaler()\n",
    "X = scaler.fit_transform(np.array(data.iloc[:, :-1], dtype = float))"
   ]
  },
  {
   "cell_type": "code",
   "execution_count": 5,
   "metadata": {},
   "outputs": [],
   "source": [
    "# spliting of dataset into train and test dataset\n",
    "X_train, X_test, y_train, y_test = train_test_split(X, y, test_size=0.2)"
   ]
  },
  {
   "cell_type": "markdown",
   "metadata": {
    "id": "WcUTyDOPKucd"
   },
   "source": [
    "# Create the model\n",
    "\n",
    "The model consists of three convolution blocks with a max pool layer in each of them. There's a fully connected layer with 128 units on top of it that is activated by a `relu` activation function. This model has not been tuned for high accuracy, the goal of this tutorial is to show a standard approach. "
   ]
  },
  {
   "cell_type": "code",
   "execution_count": 6,
   "metadata": {
    "id": "2Zeg8zsqXCsm"
   },
   "outputs": [
    {
     "name": "stderr",
     "output_type": "stream",
     "text": [
      "2022-07-07 08:23:53.713048: I tensorflow/core/platform/cpu_feature_guard.cc:151] This TensorFlow binary is optimized with oneAPI Deep Neural Network Library (oneDNN) to use the following CPU instructions in performance-critical operations:  AVX2 FMA\n",
      "To enable them in other operations, rebuild TensorFlow with the appropriate compiler flags.\n"
     ]
    }
   ],
   "source": [
    "X_train_norm = X_train[y_train == 0]\n",
    "model = models.Sequential()\n",
    "model.add(layers.Dense(64, activation='relu', input_shape=(X_train_norm.shape[1],)))\n",
    "model.add(layers.Dense(64, activation='relu'))\n",
    "model.add(layers.Dense(8, activation='relu'))\n",
    "model.add(layers.Dense(64, activation='relu'))\n",
    "model.add(layers.Dense(64, activation='relu'))\n",
    "model.add(layers.Dense(X_train_norm.shape[1], activation=None))"
   ]
  },
  {
   "cell_type": "markdown",
   "metadata": {
    "id": "L4nEcuqgZLbi"
   },
   "source": [
    "## Compile and train the model"
   ]
  },
  {
   "cell_type": "code",
   "execution_count": 7,
   "metadata": {
    "id": "EvyAINs9ZOmJ"
   },
   "outputs": [],
   "source": [
    "model.compile(optimizer='adam',\n",
    "              loss='mean_squared_error',\n",
    "              metrics=['accuracy'])"
   ]
  },
  {
   "cell_type": "code",
   "execution_count": 8,
   "metadata": {
    "id": "wWLkKoKjZSoC"
   },
   "outputs": [
    {
     "name": "stdout",
     "output_type": "stream",
     "text": [
      "Model: \"sequential\"\n",
      "_________________________________________________________________\n",
      " Layer (type)                Output Shape              Param #   \n",
      "=================================================================\n",
      " dense (Dense)               (None, 64)                1728      \n",
      "                                                                 \n",
      " dense_1 (Dense)             (None, 64)                4160      \n",
      "                                                                 \n",
      " dense_2 (Dense)             (None, 8)                 520       \n",
      "                                                                 \n",
      " dense_3 (Dense)             (None, 64)                576       \n",
      "                                                                 \n",
      " dense_4 (Dense)             (None, 64)                4160      \n",
      "                                                                 \n",
      " dense_5 (Dense)             (None, 26)                1690      \n",
      "                                                                 \n",
      "=================================================================\n",
      "Total params: 12,834\n",
      "Trainable params: 12,834\n",
      "Non-trainable params: 0\n",
      "_________________________________________________________________\n"
     ]
    }
   ],
   "source": [
    "model.summary()"
   ]
  },
  {
   "cell_type": "code",
   "execution_count": 9,
   "metadata": {
    "id": "LWS-vvNaZDag"
   },
   "outputs": [],
   "source": [
    "checkpointer = callbacks.ModelCheckpoint(filepath=\"AE_weights.hdf5\", verbose=0, save_best_only=True)\n",
    "\n",
    "epochs = 100\n",
    "\n",
    "history = model.fit(X_train_norm, X_train_norm, epochs=epochs, batch_size=512, shuffle=True, validation_split=0.1, verbose=0, callbacks=[checkpointer])"
   ]
  },
  {
   "cell_type": "code",
   "execution_count": 10,
   "metadata": {},
   "outputs": [],
   "source": [
    "model.load_weights('AE_weights.hdf5')"
   ]
  },
  {
   "cell_type": "markdown",
   "metadata": {
    "id": "Lkdl8VsBbZOu"
   },
   "source": [
    "# Visualize training results"
   ]
  },
  {
   "cell_type": "code",
   "execution_count": 11,
   "metadata": {
    "id": "dduoLfKsZVIA"
   },
   "outputs": [
    {
     "data": {
      "image/png": "[encoded data removed]",
      "text/plain": [
       "<Figure size 576x576 with 2 Axes>"
      ]
     },
     "metadata": {
      "needs_background": "light"
     },
     "output_type": "display_data"
    },
    {
     "data": {
      "image/png": "[encoded data removed]",
      "text/plain": [
       "<Figure size 576x360 with 1 Axes>"
      ]
     },
     "metadata": {
      "needs_background": "light"
     },
     "output_type": "display_data"
    }
   ],
   "source": [
    "acc = history.history['accuracy']\n",
    "val_acc = history.history['val_accuracy']\n",
    "\n",
    "loss = history.history['loss']\n",
    "val_loss = history.history['val_loss']\n",
    "\n",
    "epochs_range = range(epochs)\n",
    "\n",
    "plt.figure(figsize=(8, 8))\n",
    "plt.subplot(1, 2, 1)\n",
    "plt.plot(epochs_range, acc, label='Training Accuracy')\n",
    "plt.plot(epochs_range, val_acc, label='Validation Accuracy')\n",
    "plt.legend(loc='lower right')\n",
    "plt.title('Training and Validation Accuracy')\n",
    "\n",
    "plt.subplot(1, 2, 2)\n",
    "plt.plot(epochs_range, loss, label='Training Loss')\n",
    "plt.plot(epochs_range, val_loss, label='Validation Loss')\n",
    "plt.legend(loc='upper right')\n",
    "plt.title('Training and Validation Loss')\n",
    "plt.show()\n",
    "\n",
    "pd.DataFrame(history.history).plot(figsize=(8,5))\n",
    "plt.show()"
   ]
  },
  {
   "cell_type": "code",
   "execution_count": 12,
   "metadata": {},
   "outputs": [],
   "source": [
    "y_pred_proba = np.mean(np.square(X_train_norm - model.predict(X_train_norm)), axis=1)\n",
    "threshold = np.percentile(y_pred_proba, 80)"
   ]
  },
  {
   "cell_type": "code",
   "execution_count": 13,
   "metadata": {},
   "outputs": [],
   "source": [
    "y_pred_proba = np.mean(np.square(X_test - model.predict(X_test)), axis=1)\n",
    "y_pred = [1 if e > threshold else 0 for e in y_pred_proba]"
   ]
  },
  {
   "cell_type": "code",
   "execution_count": 14,
   "metadata": {},
   "outputs": [
    {
     "data": {
      "image/png": "[encoded data removed]",
      "text/plain": [
       "<Figure size 432x288 with 1 Axes>"
      ]
     },
     "metadata": {
      "needs_background": "light"
     },
     "output_type": "display_data"
    }
   ],
   "source": [
    "fpr, tpr, _ = roc_curve(y_test, y_pred_proba)\n",
    "roc_auc = auc(fpr, tpr)\n",
    "\n",
    "plt.figure()\n",
    "lw = 1\n",
    "plt.plot(fpr, tpr,\n",
    "         lw=lw, label='Basic Autoencoder (area = %0.2f)' % roc_auc)\n",
    "\n",
    "plt.plot([0, 1], [0, 1], color='navy', lw=lw, linestyle='--')\n",
    "plt.xlim([0.0, 1.0])\n",
    "plt.ylim([0.0, 1.0])\n",
    "plt.xlabel('False Positive Rate')\n",
    "plt.ylabel('True Positive Rate')\n",
    "plt.title('ROC Analysis')\n",
    "plt.legend(loc=\"lower right\")\n",
    "plt.show()"
   ]
  },
  {
   "cell_type": "markdown",
   "metadata": {},
   "source": [
    "# Save the TensorFlow Model"
   ]
  },
  {
   "cell_type": "code",
   "execution_count": 15,
   "metadata": {},
   "outputs": [
    {
     "name": "stderr",
     "output_type": "stream",
     "text": [
      "2022-07-07 08:23:59.439128: W tensorflow/python/util/util.cc:368] Sets are not currently considered sequences, but this may change in the future, so consider avoiding using them.\n"
     ]
    },
    {
     "name": "stdout",
     "output_type": "stream",
     "text": [
      "INFO:tensorflow:Assets written to: saved_model/assets\n"
     ]
    }
   ],
   "source": [
    "model_fname=\"saved_model\"\n",
    "model.save(model_fname)"
   ]
  },
  {
   "cell_type": "code",
   "execution_count": 16,
   "metadata": {},
   "outputs": [],
   "source": [
    "input_shape = [1, (X_train.shape[1])]"
   ]
  },
  {
   "cell_type": "code",
   "execution_count": 17,
   "metadata": {},
   "outputs": [
    {
     "data": {
      "text/plain": [
       "[1, 26]"
      ]
     },
     "execution_count": 17,
     "metadata": {},
     "output_type": "execute_result"
    }
   ],
   "source": [
    "input_shape"
   ]
  },
  {
   "cell_type": "markdown",
   "metadata": {},
   "source": [
    "# Convert the TensorFlow model with OpenVINO Model Optimizer"
   ]
  },
  {
   "cell_type": "code",
   "execution_count": 18,
   "metadata": {},
   "outputs": [
    {
     "name": "stdout",
     "output_type": "stream",
     "text": [
      "Model Optimizer command to convert TensorFlow to OpenVINO:\n",
      "\"/opt/anaconda3/bin/python\" \"/opt/anaconda3/lib/python3.7/site-packages/mo_tf.py\" --saved_model_dir \"saved_model\" --input_shape \"[1, 26]\" --data_type \"FP16\" --output_dir \".\" --model_name \"model_ir\"\n"
     ]
    }
   ],
   "source": [
    "# The paths of the source and converted models\n",
    "model_name = \"saved_model\"\n",
    "model_path = Path(model_name)\n",
    "ir_data_type = \"FP16\"\n",
    "ir_model_name = \"model_ir\"\n",
    "\n",
    "# Get the path to the Model Optimizer script\n",
    "mo_path = str(Path(mo_tf.__file__))\n",
    "\n",
    "# Construct the command for Model Optimizer\n",
    "mo_command = f\"\"\"\"{sys.executable}\"\n",
    "                 \"{mo_path}\" \n",
    "                 --saved_model_dir \"{model_name}\"\n",
    "                 --input_shape \"{input_shape}\" \n",
    "                 --data_type \"{ir_data_type}\" \n",
    "                 --output_dir \"{model_path.parent}\"\n",
    "                 --model_name \"{ir_model_name}\"\n",
    "                 \"\"\"\n",
    "mo_command = \" \".join(mo_command.split())\n",
    "print(\"Model Optimizer command to convert TensorFlow to OpenVINO:\")\n",
    "print(mo_command)"
   ]
  },
  {
   "cell_type": "code",
   "execution_count": 19,
   "metadata": {},
   "outputs": [
    {
     "name": "stdout",
     "output_type": "stream",
     "text": [
      "Exporting TensorFlow model to IR... This may take a few minutes.\n",
      "Model Optimizer arguments:\n",
      "Common parameters:\n",
      "\t- Path to the Input Model: \tNone\n",
      "\t- Path for generated IR: \t/Users/jamesmurphy/Desktop/Folders/PhD Project/Projects/MIMII/.\n",
      "\t- IR output name: \tmodel_ir\n",
      "\t- Log level: \tERROR\n",
      "\t- Batch: \tNot specified, inherited from the model\n",
      "\t- Input layers: \tNot specified, inherited from the model\n",
      "\t- Output layers: \tNot specified, inherited from the model\n",
      "\t- Input shapes: \t[1, 26]\n",
      "\t- Mean values: \tNot specified\n",
      "\t- Scale values: \tNot specified\n",
      "\t- Scale factor: \tNot specified\n",
      "\t- Precision of IR: \tFP16\n",
      "\t- Enable fusing: \tTrue\n",
      "\t- Enable grouped convolutions fusing: \tTrue\n",
      "\t- Move mean values to preprocess section: \tNone\n",
      "\t- Reverse input channels: \tFalse\n",
      "TensorFlow specific parameters:\n",
      "\t- Input model in text protobuf format: \tFalse\n",
      "\t- Path to model dump for TensorBoard: \tNone\n",
      "\t- List of shared libraries with TensorFlow custom layers implementation: \tNone\n",
      "\t- Update the configuration file with input/output node names: \tNone\n",
      "\t- Use configuration file used to generate the model with Object Detection API: \tNone\n",
      "\t- Use the config file: \tNone\n",
      "\t- Inference Engine found in: \t/opt/anaconda3/lib/python3.7/site-packages/openvino\n",
      "Inference Engine version: \t2021.4.2-3976-0943ed67223-refs/pull/539/head\n",
      "Model Optimizer version: \t2021.4.0-3839-cd81789d294-releases/2021/4\n",
      "[ WARNING ] Model Optimizer and Inference Engine versions do no match.\n",
      "[ WARNING ] Consider building the Inference Engine Python API from sources or reinstall OpenVINO (TM) toolkit using \"pip install openvino==2021.4\"\n",
      "/opt/anaconda3/lib/python3.7/site-packages/h5py/__init__.py:46: DeprecationWarning: `np.typeDict` is a deprecated alias for `np.sctypeDict`.\n",
      "  from ._conv import register_converters as _register_converters\n",
      "/opt/anaconda3/lib/python3.7/site-packages/flatbuffers/compat.py:19: DeprecationWarning: the imp module is deprecated in favour of importlib; see the module's documentation for alternative uses\n",
      "  import imp\n",
      "/opt/anaconda3/lib/python3.7/site-packages/mo/mo/utils/versions_checker.py:237: DeprecationWarning: distutils Version classes are deprecated. Use packaging.version instead.\n",
      "  if \"tensorflow\" in env_setup and env_setup[\"tensorflow\"] >= LooseVersion(\"2.0.0\"):\n",
      "/opt/anaconda3/lib/python3.7/site-packages/setuptools/_distutils/version.py:351: DeprecationWarning: distutils Version classes are deprecated. Use packaging.version instead.\n",
      "  other = LooseVersion(other)\n",
      "[ WARNING ]  \n",
      "Detected not satisfied dependencies:\n",
      "\tnumpy: installed: 1.21.5, required: < 1.20\n",
      "\n",
      "Please install required versions of components or use install_prerequisites script\n",
      "/opt/anaconda3/lib/python3.7/site-packages/mo/install_prerequisites/install_prerequisites_tf2.sh\n",
      "Note that install_prerequisites scripts may install additional components.\n",
      "/opt/anaconda3/lib/python3.7/site-packages/mo/mo/front/tf/common.py:10: DeprecationWarning: `np.bool` is a deprecated alias for the builtin `bool`. To silence this warning, use `bool` by itself. Doing this will not modify any behavior and is safe. If you specifically wanted the numpy scalar type, use `np.bool_` here.\n",
      "Deprecated in NumPy 1.20; for more details and guidance: https://numpy.org/devdocs/release/1.20.0-notes.html#deprecations\n",
      "  _tf_np_mapping = [('DT_BOOL', np.bool, lambda pb: pb.bool_val, lambda x: bool_cast(x)),\n",
      "/opt/anaconda3/lib/python3.7/site-packages/mo/mo/front/tf/common.py:22: DeprecationWarning: `np.str` is a deprecated alias for the builtin `str`. To silence this warning, use `str` by itself. Doing this will not modify any behavior and is safe. If you specifically wanted the numpy scalar type, use `np.str_` here.\n",
      "Deprecated in NumPy 1.20; for more details and guidance: https://numpy.org/devdocs/release/1.20.0-notes.html#deprecations\n",
      "  ('DT_STRING', np.str, lambda pb: pb.string_val, lambda x: np.str(x)),\n",
      "/opt/anaconda3/lib/python3.7/site-packages/mo/mo/front/tf/loader.py:229: DeprecationWarning: distutils Version classes are deprecated. Use packaging.version instead.\n",
      "  if \"tensorflow\" in env_setup and env_setup[\"tensorflow\"] >= LooseVersion(\"2.2.0\"):\n",
      "/opt/anaconda3/lib/python3.7/site-packages/mo/extensions/analysis/boolean_input.py:13: DeprecationWarning: `np.bool` is a deprecated alias for the builtin `bool`. To silence this warning, use `bool` by itself. Doing this will not modify any behavior and is safe. If you specifically wanted the numpy scalar type, use `np.bool_` here.\n",
      "Deprecated in NumPy 1.20; for more details and guidance: https://numpy.org/devdocs/release/1.20.0-notes.html#deprecations\n",
      "  nodes = graph.get_op_nodes(op='Parameter', data_type=np.bool)\n",
      "[ SUCCESS ] Generated IR version 10 model.\n",
      "[ SUCCESS ] XML file: /Users/jamesmurphy/Desktop/Folders/PhD Project/Projects/MIMII/model_ir.xml\n",
      "[ SUCCESS ] BIN file: /Users/jamesmurphy/Desktop/Folders/PhD Project/Projects/MIMII/model_ir.bin\n",
      "[ SUCCESS ] Total execution time: 6.24 seconds. \n",
      "[ SUCCESS ] Memory consumed: 368 MB. \n",
      "It's been a while, check for a new version of Intel(R) Distribution of OpenVINO(TM) toolkit here https://software.intel.com/content/www/us/en/develop/tools/openvino-toolkit/download.html?cid=other&source=prod&campid=ww_2021_bu_IOTG_OpenVINO-2021-4-LTS&content=upg_all&medium=organic or on the GitHub*\n"
     ]
    }
   ],
   "source": [
    "# Run the Model Optimizer (overwrites the older model)\n",
    "print(\"Exporting TensorFlow model to IR... This may take a few minutes.\")\n",
    "mo_result = %sx $mo_command\n",
    "print(\"\\n\".join(mo_result))"
   ]
  },
  {
   "cell_type": "markdown",
   "metadata": {},
   "source": [
    "# OpenVINO Inference Engine Setup"
   ]
  },
  {
   "cell_type": "code",
   "execution_count": 20,
   "metadata": {},
   "outputs": [
    {
     "data": {
      "text/plain": [
       "['CPU', 'MYRIAD']"
      ]
     },
     "execution_count": 20,
     "metadata": {},
     "output_type": "execute_result"
    }
   ],
   "source": [
    "ie = IECore()\n",
    "ie.available_devices"
   ]
  },
  {
   "cell_type": "code",
   "execution_count": 21,
   "metadata": {},
   "outputs": [],
   "source": [
    "class_names=[\"abnormal\", \"normal\"]\n",
    "\n",
    "model_xml = \"model_ir.xml\"\n",
    "model_bin = \"model_ir.bin\"\n",
    "\n",
    "# Load network to the plugin\n",
    "ie = IECore()\n",
    "net = ie.read_network(model=model_xml, weights=model_bin)\n",
    "\n",
    "# Neural Compute Stick\n",
    "exec_net = ie.load_network(network=net, device_name=ie.available_devices[1])\n",
    "#exec_net = ie.load_network(network=net, device_name=\"CPU\")\n",
    "\n",
    "del net\n",
    "\n",
    "input_layer = next(iter(exec_net.input_info))\n",
    "output_layer = next(iter(exec_net.outputs))"
   ]
  },
  {
   "cell_type": "markdown",
   "metadata": {},
   "source": [
    "# Run the Inference Step for NCS"
   ]
  },
  {
   "cell_type": "code",
   "execution_count": 22,
   "metadata": {},
   "outputs": [
    {
     "name": "stdout",
     "output_type": "stream",
     "text": [
      "Actual Status:  abnormal\n",
      "\n",
      "Result: Correct!\n"
     ]
    }
   ],
   "source": [
    "file_no = 0\n",
    "input_wav = X_test[file_no]\n",
    "\n",
    "res = exec_net.infer(inputs={input_layer: input_wav})\n",
    "res = res[output_layer]\n",
    "\n",
    "y_pred_proba = np.mean(np.square(input_wav - res[0]))\n",
    "y_pred = [1 if y_pred_proba > threshold else 0]\n",
    "\n",
    "# actual status\n",
    "r = y_test[file_no]\n",
    "print('Actual Status: ',stat[r])\n",
    "value = np.where(X == X_test[file_no:(file_no+1)])\n",
    "new = data_origin.to_numpy()\n",
    "name = new[value[0][0]][0]\n",
    "if stat[r] == class_names[y_pred[0]]:\n",
    "    print(\"\\nResult: Correct!\")\n",
    "else:\n",
    "    print(\"\\nResult: Incorrect!\")"
   ]
  },
  {
   "cell_type": "code",
   "execution_count": 23,
   "metadata": {},
   "outputs": [
    {
     "name": "stdout",
     "output_type": "stream",
     "text": [
      "Total Time for 284 Objects: 493.69ms\n",
      "Individual Inferrence Time 1.74ms\n"
     ]
    }
   ],
   "source": [
    "out = []\n",
    "\n",
    "def infer():\n",
    "    for input_wav in X_test:\n",
    "        res = exec_net.infer(inputs={input_layer: input_wav})\n",
    "        res = res[output_layer]\n",
    "        out.append(res)\n",
    "\n",
    "itter = 10\n",
    "total_time = (timeit.timeit(infer, number = itter)/itter)*1000\n",
    "infer_time_ncs = (total_time / len(X_test))\n",
    "\n",
    "print('Total Time for ' + str(len(X_test)) + ' Objects: ' + str(round(total_time, 2)) + 'ms')\n",
    "print('Individual Inferrence Time ' + str(round(infer_time_ncs, 2)) + 'ms')"
   ]
  },
  {
   "cell_type": "markdown",
   "metadata": {},
   "source": [
    "# Run the Inference Step for CPU"
   ]
  },
  {
   "cell_type": "code",
   "execution_count": 24,
   "metadata": {},
   "outputs": [],
   "source": [
    "net = ie.read_network(model=model_xml, weights=model_bin)\n",
    "\n",
    "# Neural Compute Stick\n",
    "exec_net = ie.load_network(network=net, device_name=ie.available_devices[0])\n",
    "\n",
    "del net\n",
    "\n",
    "input_layer = next(iter(exec_net.input_info))\n",
    "output_layer = next(iter(exec_net.outputs))"
   ]
  },
  {
   "cell_type": "code",
   "execution_count": 25,
   "metadata": {},
   "outputs": [
    {
     "name": "stdout",
     "output_type": "stream",
     "text": [
      "Total Time for 284 Objects: 33.11ms\n",
      "Individual Inferrence Time 0.12ms\n"
     ]
    }
   ],
   "source": [
    "out = []\n",
    "\n",
    "def infer():\n",
    "    for input_wav in X_test:\n",
    "        res = exec_net.infer(inputs={input_layer: input_wav})\n",
    "        res = res[output_layer]\n",
    "        out.append(res)\n",
    "\n",
    "itter = 10\n",
    "total_time = (timeit.timeit(infer, number = itter)/itter)*1000\n",
    "infer_time_cpu = (total_time / len(X_test))\n",
    "\n",
    "print('Total Time for ' + str(len(X_test)) + ' Objects: ' + str(round(total_time, 2)) + 'ms')\n",
    "print('Individual Inferrence Time ' + str(round(infer_time_cpu, 2)) + 'ms')"
   ]
  },
  {
   "cell_type": "markdown",
   "metadata": {},
   "source": [
    "# Compare Runtimes"
   ]
  },
  {
   "cell_type": "code",
   "execution_count": 26,
   "metadata": {},
   "outputs": [
    {
     "name": "stdout",
     "output_type": "stream",
     "text": [
      "Inferrence Times\n",
      "\n",
      "\n",
      "MYRIAD Inferrence Time: 1.74ms\n",
      "CPU Inferrence Time: 0.12ms\n",
      "\n",
      "Inferrence Time Difference: 1.62ms\n",
      "CPU is 14.91 times faster than MYRIAD\n"
     ]
    }
   ],
   "source": [
    "dif = infer_time_ncs - infer_time_cpu\n",
    "times = infer_time_ncs / infer_time_cpu\n",
    "\n",
    "print('Inferrence Times\\n\\n')\n",
    "print(ie.available_devices[1] + ' Inferrence Time: ' + str(round(infer_time_ncs, 2)) + 'ms')\n",
    "print(ie.available_devices[0] + ' Inferrence Time: ' + str(round(infer_time_cpu, 2)) + 'ms')\n",
    "print('\\nInferrence Time Difference: ' + str(round(dif, 2)) + 'ms')\n",
    "print(ie.available_devices[0] + ' is ' + str(round(times, 2)) + ' times faster than ' + ie.available_devices[1])"
   ]
  },
  {
   "cell_type": "code",
   "execution_count": 27,
   "metadata": {},
   "outputs": [
    {
     "name": "stdout",
     "output_type": "stream",
     "text": [
      "Threshold:  0.3468849270473191\n"
     ]
    }
   ],
   "source": [
    "import tensorflow as tf\n",
    "from sklearn.metrics import accuracy_score, precision_score, recall_score\n",
    "reconstructions = model.predict(X_train_norm)\n",
    "train_loss = tf.keras.losses.mae(reconstructions, X_train_norm)\n",
    "threshold = np.mean(train_loss) + np.std(train_loss)\n",
    "print(\"Threshold: \", threshold)"
   ]
  },
  {
   "cell_type": "code",
   "execution_count": 28,
   "metadata": {},
   "outputs": [],
   "source": [
    "def predict(model, data, threshold):\n",
    "  reconstructions = model(data)\n",
    "  loss = tf.keras.losses.mae(reconstructions, data)\n",
    "  return tf.math.less(loss, threshold)\n",
    "\n",
    "def print_stats(predictions, labels):\n",
    "  print(\"Accuracy = {}\".format(accuracy_score(labels, predictions)))\n",
    "  print(\"Precision = {}\".format(precision_score(labels, predictions)))\n",
    "  print(\"Recall = {}\".format(recall_score(labels, predictions)))"
   ]
  },
  {
   "cell_type": "code",
   "execution_count": 29,
   "metadata": {},
   "outputs": [
    {
     "name": "stdout",
     "output_type": "stream",
     "text": [
      "Accuracy = 0.2746478873239437\n",
      "Precision = 0.24444444444444444\n",
      "Recall = 0.6043956043956044\n"
     ]
    }
   ],
   "source": [
    "preds = predict(model, X_test, threshold)\n",
    "print_stats(preds, y_test)"
   ]
  },
  {
   "cell_type": "code",
   "execution_count": null,
   "metadata": {},
   "outputs": [],
   "source": []
  }
 ],
 "metadata": {
  "accelerator": "GPU",
  "colab": {
   "collapsed_sections": [],
   "name": "classification.ipynb",
   "toc_visible": true
  },
  "kernelspec": {
   "display_name": "Python 3 (ipykernel)",
   "language": "python",
   "name": "python3"
  },
  "language_info": {
   "codemirror_mode": {
    "name": "ipython",
    "version": 3
   },
   "file_extension": ".py",
   "mimetype": "text/x-python",
   "name": "python",
   "nbconvert_exporter": "python",
   "pygments_lexer": "ipython3",
   "version": "3.7.10"
  }
 },
 "nbformat": 4,
 "nbformat_minor": 4
}

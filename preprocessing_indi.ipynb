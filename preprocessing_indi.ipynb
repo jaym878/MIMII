{
 "cells": [
  {
   "cell_type": "markdown",
   "id": "984a5ae0-8b02-48e0-b1b6-04c649e1b5eb",
   "metadata": {},
   "source": [
    "# Generates a .CSV File containing sound features\n",
    "Based on feature extraction from audio files here: https://towardsdatascience.com/extract-features-of-music-75a3f9bc265d"
   ]
  },
  {
   "cell_type": "code",
   "execution_count": 1,
   "id": "54e79278-4897-4574-ae3c-88f8b64d5a4f",
   "metadata": {},
   "outputs": [],
   "source": [
    "import csv\n",
    "import os\n",
    "import librosa\n",
    "import numpy as np"
   ]
  },
  {
   "cell_type": "code",
   "execution_count": 2,
   "id": "3f0b1024-af14-4d1d-8e79-937c2cac902f",
   "metadata": {},
   "outputs": [],
   "source": [
    "# generating a dataset\n",
    "header = 'filename chroma_stft rmse spectral_centroid spectral_bandwidth rolloff zero_crossing_rate'\n",
    "for i in range(1, 21):\n",
    "    header += f' mfcc{i}'\n",
    "header += ' label'\n",
    "header = header.split()\n",
    "stat = 'abnormal normal'.split()"
   ]
  },
  {
   "cell_type": "markdown",
   "id": "e861f772-a13f-4a7e-a9a7-d69cfbf9ef55",
   "metadata": {},
   "source": [
    "The MIMII Fan id_00 dataset is used in this analysis as a starting point"
   ]
  },
  {
   "cell_type": "code",
   "execution_count": 3,
   "id": "78c6054c-9d41-4cd6-82a7-8c8e69b3b092",
   "metadata": {},
   "outputs": [],
   "source": [
    "file = open('data_00.csv', 'w', newline='')\n",
    "with file:\n",
    "    writer = csv.writer(file)\n",
    "    writer.writerow(header)\n",
    "\n",
    "for g in stat:\n",
    "    for filename in os.listdir(f'./dataset/fan/id_00/{g}'):\n",
    "        soundname = f'./dataset/fan/id_00/{g}/{filename}'\n",
    "        y, sr = librosa.load(soundname, mono=True, duration=10)\n",
    "        chroma_stft = librosa.feature.chroma_stft(y=y, sr=sr)\n",
    "        rmse = librosa.feature.rms(y=y)\n",
    "        spec_cent = librosa.feature.spectral_centroid(y=y, sr=sr)\n",
    "        spec_bw = librosa.feature.spectral_bandwidth(y=y, sr=sr)\n",
    "        rolloff = librosa.feature.spectral_rolloff(y=y, sr=sr)\n",
    "        zcr = librosa.feature.zero_crossing_rate(y)\n",
    "        mfcc = librosa.feature.mfcc(y=y, sr=sr)\n",
    "        to_append = f'{filename} {np.mean(chroma_stft)} {np.mean(rmse)} {np.mean(spec_cent)} {np.mean(spec_bw)} {np.mean(rolloff)} {np.mean(zcr)}'    \n",
    "        for e in mfcc:\n",
    "            to_append += f' {np.mean(e)}'\n",
    "        to_append += f' {g}'\n",
    "        file = open('data_00.csv', 'a', newline='')\n",
    "        with file:\n",
    "            writer = csv.writer(file)\n",
    "            writer.writerow(to_append.split())"
   ]
  },
  {
   "cell_type": "code",
   "execution_count": null,
   "id": "84631dda-cc0a-4527-a6e5-50456c7bc03d",
   "metadata": {},
   "outputs": [],
   "source": []
  }
 ],
 "metadata": {
  "kernelspec": {
   "display_name": "Python 3 (ipykernel)",
   "language": "python",
   "name": "python3"
  },
  "language_info": {
   "codemirror_mode": {
    "name": "ipython",
    "version": 3
   },
   "file_extension": ".py",
   "mimetype": "text/x-python",
   "name": "python",
   "nbconvert_exporter": "python",
   "pygments_lexer": "ipython3",
   "version": "3.7.10"
  }
 },
 "nbformat": 4,
 "nbformat_minor": 5
}

{
 "cells": [
  {
   "cell_type": "code",
   "execution_count": 1,
   "id": "fd718ef2-c493-4b0b-b43b-5e21cacc0459",
   "metadata": {},
   "outputs": [],
   "source": [
    "import os\n",
    "import shutil"
   ]
  },
  {
   "cell_type": "code",
   "execution_count": 2,
   "id": "30393a29-345b-4c85-b20f-9a40f8627bd4",
   "metadata": {},
   "outputs": [],
   "source": [
    "stat = 'abnormal normal'.split()\n",
    "\n",
    "src = './dataset/fan/id_00/'\n",
    "dst = r'./dataset/temp/'\n",
    "shutil.copytree(src, dst)\n",
    "\n",
    "x = 0\n",
    "for g in stat:\n",
    "    for filename in os.listdir(f'./dataset/temp/{g}'):\n",
    "        os.rename(f'./dataset/temp/{g}/{filename}', f'./dataset/temp/{g}/{x:08}.wav')\n",
    "        x+=1\n",
    "        \n",
    "    if g == 'normal':\n",
    "        x_norm = x\n",
    "        x = 0\n",
    "    elif g == 'abnormal':\n",
    "        x_abnorm = x\n",
    "        x = 0\n",
    "        \n",
    "src = './dataset/temp/'\n",
    "dst = r'./dataset/combined/'\n",
    "\n",
    "shutil.copytree(src, dst)\n",
    "shutil.rmtree('./dataset/temp/')"
   ]
  },
  {
   "cell_type": "code",
   "execution_count": 3,
   "id": "b2523874-cbf2-4547-a9a4-7bdedc062c6a",
   "metadata": {},
   "outputs": [],
   "source": [
    "for file in os.listdir(f'./dataset/fan/'):\n",
    "    if file == 'id_02' or file == 'id_04' or file == 'id_06':\n",
    "        src = f'./dataset/fan/{file}'\n",
    "        dst = r'./dataset/temp/'\n",
    "\n",
    "        shutil.copytree(src, dst)\n",
    "        for g in stat:\n",
    "\n",
    "            if g == 'normal':\n",
    "                x = x_norm\n",
    "            else:\n",
    "                x = x_abnorm\n",
    "\n",
    "            for filename in os.listdir(f'./dataset/temp/{g}'):\n",
    "                os.rename(f'./dataset/temp/{g}/{filename}', f'./dataset/temp/{g}/{x:08}.wav')\n",
    "                x+=1\n",
    "\n",
    "            if g == 'normal':\n",
    "                x_norm = x\n",
    "                x = 0\n",
    "            elif g == 'abnormal':\n",
    "                x_abnorm = x\n",
    "                x = 0\n",
    "\n",
    "        for g in stat:\n",
    "            for filename in os.listdir(f'./dataset/temp/{g}'):\n",
    "                shutil.copy(f'./dataset/temp/{g}/{filename}', f'./dataset/combined/{g}')\n",
    "\n",
    "        shutil.rmtree('./dataset/temp/')"
   ]
  },
  {
   "cell_type": "code",
   "execution_count": 3,
   "id": "4a2d69a5-67b1-4abb-a8d6-a06045263d8b",
   "metadata": {},
   "outputs": [],
   "source": [
    "src = './dataset/fan/id_02/'\n",
    "dst = r'./dataset/temp/'\n",
    "\n",
    "shutil.copytree(src, dst)\n",
    "for g in stat:\n",
    "    \n",
    "    if g == 'normal':\n",
    "        x = x_norm\n",
    "    else:\n",
    "        x = x_abnorm\n",
    "        \n",
    "    for filename in os.listdir(f'./dataset/temp/{g}'):\n",
    "        os.rename(f'./dataset/temp/{g}/{filename}', f'./dataset/temp/{g}/{x:08}.wav')\n",
    "        x+=1\n",
    "        \n",
    "    if g == 'normal':\n",
    "        x_norm = x\n",
    "        x = 0\n",
    "    elif g == 'abnormal':\n",
    "        x_abnorm = x\n",
    "        x = 0\n",
    "        \n",
    "for g in stat:\n",
    "    for filename in os.listdir(f'./dataset/temp/{g}'):\n",
    "        shutil.copy(f'./dataset/temp/{g}/{filename}', f'./dataset/combined/{g}')\n",
    "        \n",
    "shutil.rmtree('./dataset/temp/')"
   ]
  },
  {
   "cell_type": "code",
   "execution_count": null,
   "id": "fdf0f9c8-c42e-47b0-99af-059ae6a65e36",
   "metadata": {},
   "outputs": [],
   "source": []
  }
 ],
 "metadata": {
  "kernelspec": {
   "display_name": "Python 3",
   "language": "python",
   "name": "python3"
  },
  "language_info": {
   "codemirror_mode": {
    "name": "ipython",
    "version": 3
   },
   "file_extension": ".py",
   "mimetype": "text/x-python",
   "name": "python",
   "nbconvert_exporter": "python",
   "pygments_lexer": "ipython3",
   "version": "3.7.10"
  }
 },
 "nbformat": 4,
 "nbformat_minor": 5
}
